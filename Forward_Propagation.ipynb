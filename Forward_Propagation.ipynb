{
 "cells": [
  {
   "cell_type": "code",
   "execution_count": null,
   "id": "0aa36833",
   "metadata": {},
   "outputs": [],
   "source": [
    "import numpy as np\n",
    " "
   ]
  },
  {
   "cell_type": "code",
   "execution_count": 2,
   "id": "594b50dc",
   "metadata": {},
   "outputs": [],
   "source": [
    "input_data = np.array([2,3])"
   ]
  },
  {
   "cell_type": "code",
   "execution_count": 4,
   "id": "008414e8",
   "metadata": {},
   "outputs": [],
   "source": [
    "weights = {'node_0': np.array([1,1]),\n",
    "           'node_1': np.array([-1,1]),\n",
    "           'output': np.array([2,-1])}"
   ]
  },
  {
   "cell_type": "code",
   "execution_count": 5,
   "id": "3f9a8d89",
   "metadata": {},
   "outputs": [],
   "source": [
    "node_0_value = (input_data * weights['node_0']).sum()"
   ]
  },
  {
   "cell_type": "code",
   "execution_count": 6,
   "id": "2b777b09",
   "metadata": {},
   "outputs": [],
   "source": [
    "node_1_value = (input_data * weights['node_1']).sum()"
   ]
  },
  {
   "cell_type": "code",
   "execution_count": null,
   "id": "62c22e8f",
   "metadata": {},
   "outputs": [],
   "source": []
  }
 ],
 "metadata": {
  "kernelspec": {
   "display_name": "base",
   "language": "python",
   "name": "python3"
  },
  "language_info": {
   "codemirror_mode": {
    "name": "ipython",
    "version": 3
   },
   "file_extension": ".py",
   "mimetype": "text/x-python",
   "name": "python",
   "nbconvert_exporter": "python",
   "pygments_lexer": "ipython3",
   "version": "3.13.5"
  }
 },
 "nbformat": 4,
 "nbformat_minor": 5
}
